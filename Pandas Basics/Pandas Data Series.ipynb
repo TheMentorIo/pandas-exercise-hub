{
 "cells": [
  {
   "cell_type": "markdown",
   "id": "18a63a20",
   "metadata": {},
   "source": [
    "30. Filter Words with Vowels\n",
    "\n",
    "Write a Pandas program to filter words from a given series that contain at least two vowels.\n",
    "\n"
   ]
  },
  {
   "cell_type": "code",
   "execution_count": 75,
   "id": "ba54205c",
   "metadata": {},
   "outputs": [
    {
     "name": "stdout",
     "output_type": "stream",
     "text": [
      "Color Series:\n",
      "0       red\n",
      "1     green\n",
      "2      blue\n",
      "3    yellow\n",
      "4    orange\n",
      "5    purple\n",
      "6      pink\n",
      "7     brown\n",
      "8     black\n",
      "9     white\n",
      "dtype: object\n",
      "\n",
      "Words with at least two vowels:\n",
      "1     green\n",
      "2      blue\n",
      "3    yellow\n",
      "4    orange\n",
      "5    purple\n",
      "9     white\n",
      "dtype: object\n"
     ]
    }
   ],
   "source": [
    "colors = pd.Series(['red', 'green', 'blue', 'yellow', 'orange', 'purple', 'pink', 'brown', 'black', 'white'])\n",
    "print(\"Color Series:\")\n",
    "print(colors)\n",
    "\n",
    "# Filter words with at least two vowels using a lambda function\n",
    "filtered = colors[colors.apply(lambda x: sum(1 for c in x.lower() if c in 'aeiou') >= 2)]\n",
    "print(\"\\nWords with at least two vowels:\")\n",
    "print(filtered)"
   ]
  },
  {
   "cell_type": "markdown",
   "id": "481f7690",
   "metadata": {},
   "source": [
    "31. Euclidean Distance\n",
    "\n",
    "Write a Pandas program to compute the Euclidean distance between two given series.\n",
    "\n",
    "Euclidean distance\n",
    "From Wikipedia, In mathematics, the Euclidean distance or Euclidean metric is the \"ordinary\" straight-line distance between two points in Euclidean space. With this distance, Euclidean space becomes a metric space. The associated norm is called the Euclidean norm.\n",
    "\n"
   ]
  },
  {
   "cell_type": "code",
   "execution_count": 80,
   "id": "6338db4c",
   "metadata": {},
   "outputs": [
    {
     "name": "stdout",
     "output_type": "stream",
     "text": [
      "Series 1:\n",
      "0    6\n",
      "1    5\n",
      "2    2\n",
      "3    8\n",
      "4    5\n",
      "dtype: int32\n",
      "\n",
      "Series 2:\n",
      "0    14\n",
      "1    14\n",
      "2    18\n",
      "3    13\n",
      "4    14\n",
      "dtype: int32\n",
      "\n",
      "Euclidean distance between s1 and s2: 22.516660498395403\n"
     ]
    }
   ],
   "source": [
    "import pandas as pd\n",
    "import numpy as np\n",
    "\n",
    "# Create two example Series\n",
    "s1 = pd.Series(np.random.randint(1, 10, size=5))\n",
    "s2 = pd.Series(np.random.randint(10, 20, size=5))\n",
    "\n",
    "print(\"Series 1:\")\n",
    "print(s1)\n",
    "print(\"\\nSeries 2:\")\n",
    "print(s2)\n",
    "\n",
    "# Compute Euclidean distance\n",
    "distance = np.linalg.norm(s1 - s2)\n",
    "print(\"\\nEuclidean distance between s1 and s2:\", distance)"
   ]
  },
  {
   "cell_type": "markdown",
   "id": "a7b7a857",
   "metadata": {},
   "source": [
    "32. Find Surrounded Peaks\n",
    "\n",
    "Write a Pandas program to find the positions of the values neighboured by smaller values on both sides in a given series.\n",
    "\n"
   ]
  },
  {
   "cell_type": "code",
   "execution_count": 99,
   "id": "20116cd9",
   "metadata": {},
   "outputs": [
    {
     "name": "stdout",
     "output_type": "stream",
     "text": [
      "\n",
      "Random Series:\n",
      "0     20\n",
      "1     82\n",
      "2     54\n",
      "3     25\n",
      "4     39\n",
      "5     33\n",
      "6     27\n",
      "7     17\n",
      "8     38\n",
      "9     70\n",
      "10     9\n",
      "11    68\n",
      "12    33\n",
      "13    20\n",
      "14    78\n",
      "15    95\n",
      "16    72\n",
      "17    55\n",
      "18    71\n",
      "19    28\n",
      "dtype: int32\n",
      "\n",
      "Positions of values neighboured by smaller values on both sides (peaks):\n",
      "1     82\n",
      "4     39\n",
      "9     70\n",
      "11    68\n",
      "15    95\n",
      "18    71\n",
      "dtype: int32\n"
     ]
    }
   ],
   "source": [
    "s = pd.Series(np.random.randint(1, 100, size=20))\n",
    "print(\"\\nRandom Series:\")\n",
    "print(s)\n",
    "\n",
    "# Find positions where the value is greater than its neighbors (local peaks)\n",
    "peaks = s[(s.shift(1) < s) & (s.shift(-1) < s)]\n",
    "print(\"\\nPositions of values neighboured by smaller values on both sides (peaks):\")\n",
    "print(peaks)"
   ]
  },
  {
   "cell_type": "markdown",
   "id": "9bece8df",
   "metadata": {},
   "source": [
    "33. Replace Spaces\n",
    "\n",
    "Write a Pandas program to replace missing white spaces in a given string with the least frequent character.\n",
    "\n"
   ]
  },
  {
   "cell_type": "code",
   "execution_count": 107,
   "id": "c9cea518",
   "metadata": {},
   "outputs": [
    {
     "name": "stdout",
     "output_type": "stream",
     "text": [
      "Original string: pandas is awesome\n",
      "Least frequent character: p\n",
      "After replacement: pandaspispawesome\n"
     ]
    }
   ],
   "source": [
    "# Example string with spaces\n",
    "text = \"pandas is awesome\"\n",
    "\n",
    "# Convert string to Series of characters\n",
    "s = pd.Series(list(text))\n",
    "\n",
    "# Find the least frequent character (excluding spaces)\n",
    "least_freq_char = s[s != ' '].value_counts().idxmin()\n",
    "\n",
    "# Replace spaces with the least frequent character\n",
    "result = text.replace(\" \", least_freq_char)\n",
    "\n",
    "print(\"Original string:\", text)\n",
    "print(\"Least frequent character:\", least_freq_char)\n",
    "print(\"After replacement:\", result)"
   ]
  },
  {
   "cell_type": "markdown",
   "id": "70501b4e",
   "metadata": {},
   "source": [
    "34. Autocorrelation\n",
    "\n",
    "Write a Pandas program to compute the autocorrelations of a given numeric series.\n",
    "\n",
    "From Wikipedia:\n",
    "Autocorrelation, also known as serial correlation, is the correlation of a signal with a delayed copy of itself as a function of delay. Informally, it is the similarity between observations as a function of the time lag between them.\n",
    "\n"
   ]
  },
  {
   "cell_type": "code",
   "execution_count": 112,
   "id": "13ae1d3c",
   "metadata": {},
   "outputs": [
    {
     "name": "stdout",
     "output_type": "stream",
     "text": [
      "Autocorrelations for lags 1 to 10:\n",
      "Lag 1: 0.0545\n",
      "Lag 2: 0.0758\n",
      "Lag 3: -0.0668\n",
      "Lag 4: 0.0255\n",
      "Lag 5: -0.0275\n",
      "Lag 6: -0.0120\n",
      "Lag 7: -0.0051\n",
      "Lag 8: -0.0669\n",
      "Lag 9: 0.0070\n",
      "Lag 10: -0.1251\n"
     ]
    }
   ],
   "source": [
    "s = pd.Series(np.random.randn(100))\n",
    "\n",
    "# Compute autocorrelations for lags 1 through 10\n",
    "print(\"Autocorrelations for lags 1 to 10:\")\n",
    "for lag in range(1, 11):\n",
    "    print(f\"Lag {lag}: {s.autocorr(lag):.4f}\")"
   ]
  },
  {
   "cell_type": "markdown",
   "id": "d2bae2fe",
   "metadata": {},
   "source": [
    "35. Sundays TimeSeries\n",
    "\n",
    "Write a Pandas program to create a TimeSeries to display all the Sundays of given year."
   ]
  },
  {
   "cell_type": "code",
   "execution_count": 68,
   "id": "0cf8775d",
   "metadata": {},
   "outputs": [
    {
     "name": "stdout",
     "output_type": "stream",
     "text": [
      "All Sundays in 2024:\n",
      "DatetimeIndex(['2024-01-01', '2024-01-02', '2024-01-03', '2024-01-04',\n",
      "               '2024-01-05', '2024-01-06', '2024-01-07', '2024-01-08',\n",
      "               '2024-01-09', '2024-01-10',\n",
      "               ...\n",
      "               '2024-12-22', '2024-12-23', '2024-12-24', '2024-12-25',\n",
      "               '2024-12-26', '2024-12-27', '2024-12-28', '2024-12-29',\n",
      "               '2024-12-30', '2024-12-31'],\n",
      "              dtype='datetime64[ns]', length=366, freq='D')\n"
     ]
    }
   ],
   "source": [
    "# Set the year you want\n",
    "year = 2024\n",
    "\n",
    "# Generate all Sundays of the given year\n",
    "sundays = pd.date_range(start=f'{year}-01-01', end=f'{year}-12-31', freq='W-SUN')\n",
    "print(f\"All Sundays in {year}:\")\n",
    "print(sundays)"
   ]
  },
  {
   "cell_type": "markdown",
   "id": "22eaf92c",
   "metadata": {},
   "source": [
    "36. Series to DataFrame\n",
    "\n",
    "Write a Pandas program to convert given series into a dataframe with its index as another column on the dataframe."
   ]
  },
  {
   "cell_type": "code",
   "execution_count": 62,
   "id": "0e91a00a",
   "metadata": {},
   "outputs": [
    {
     "name": "stdout",
     "output_type": "stream",
     "text": [
      "Original Series:\n",
      "a    10\n",
      "b    11\n",
      "c    12\n",
      "d    13\n",
      "e    14\n",
      "f    15\n",
      "g    16\n",
      "h    17\n",
      "i    18\n",
      "j    19\n",
      "dtype: int64\n",
      "\n",
      "DataFrame with index as a column:\n",
      "  index  value\n",
      "0     a     10\n",
      "1     b     11\n",
      "2     c     12\n",
      "3     d     13\n",
      "4     e     14\n",
      "5     f     15\n",
      "6     g     16\n",
      "7     h     17\n",
      "8     i     18\n",
      "9     j     19\n"
     ]
    }
   ],
   "source": [
    "s = pd.Series(range(10, 20), index=list('abcdefghij'))\n",
    "print(\"Original Series:\")\n",
    "print(s)\n",
    "\n",
    "# Convert series to DataFrame with index as a column\n",
    "df = s.reset_index()\n",
    "df.columns = ['index', 'value']\n",
    "print(\"\\nDataFrame with index as a column:\")\n",
    "print(df)"
   ]
  },
  {
   "cell_type": "markdown",
   "id": "1ca04c0f",
   "metadata": {},
   "source": [
    "37. Stack Series\n",
    "\n",
    "Write a Pandas program to stack two given series vertically and horizontally."
   ]
  },
  {
   "cell_type": "code",
   "execution_count": 63,
   "id": "65017fcb",
   "metadata": {},
   "outputs": [
    {
     "name": "stdout",
     "output_type": "stream",
     "text": [
      "Series 1:\n",
      "0    0\n",
      "1    1\n",
      "2    2\n",
      "3    3\n",
      "4    4\n",
      "5    5\n",
      "6    6\n",
      "7    7\n",
      "8    8\n",
      "9    9\n",
      "dtype: int64\n",
      "\n",
      "Series 2:\n",
      "0    a\n",
      "1    b\n",
      "2    c\n",
      "3    d\n",
      "4    e\n",
      "5    f\n",
      "6    g\n",
      "7    h\n",
      "8    i\n",
      "9    j\n",
      "dtype: object\n",
      "\n",
      "Stacked Vertically:\n",
      "0    0\n",
      "1    1\n",
      "2    2\n",
      "3    3\n",
      "4    4\n",
      "5    5\n",
      "6    6\n",
      "7    7\n",
      "8    8\n",
      "9    9\n",
      "0    a\n",
      "1    b\n",
      "2    c\n",
      "3    d\n",
      "4    e\n",
      "5    f\n",
      "6    g\n",
      "7    h\n",
      "8    i\n",
      "9    j\n",
      "dtype: object\n",
      "\n",
      "Stacked Horizontally:\n",
      "   0  1\n",
      "0  0  a\n",
      "1  1  b\n",
      "2  2  c\n",
      "3  3  d\n",
      "4  4  e\n",
      "5  5  f\n",
      "6  6  g\n",
      "7  7  h\n",
      "8  8  i\n",
      "9  9  j\n"
     ]
    }
   ],
   "source": [
    "s1 = pd.Series(range(10))\n",
    "print(\"Series 1:\")\n",
    "print(s1)\n",
    "\n",
    "s2 = pd.Series(list(\"abcdefghij\"))\n",
    "print(\"\\nSeries 2:\")\n",
    "print(s2)\n",
    "\n",
    "# Stack vertically (one below the other)\n",
    "vertical_stack = pd.concat([s1, s2], axis=0)\n",
    "print(\"\\nStacked Vertically:\")\n",
    "print(vertical_stack)\n",
    "\n",
    "# Stack horizontally (side by side as columns)\n",
    "horizontal_stack = pd.concat([s1, s2], axis=1)\n",
    "print(\"\\nStacked Horizontally:\")\n",
    "print(horizontal_stack)"
   ]
  },
  {
   "cell_type": "markdown",
   "id": "7ed7ed94",
   "metadata": {},
   "source": [
    "38. Series Equality Check\n",
    "\n",
    "Write a Pandas program to check the equality of two given series."
   ]
  },
  {
   "cell_type": "code",
   "execution_count": 64,
   "id": "30672aef",
   "metadata": {},
   "outputs": [
    {
     "name": "stdout",
     "output_type": "stream",
     "text": [
      "Series 1:\n",
      "0    7\n",
      "1    1\n",
      "2    8\n",
      "3    2\n",
      "4    8\n",
      "5    0\n",
      "6    4\n",
      "7    3\n",
      "8    8\n",
      "9    6\n",
      "dtype: int32\n",
      "\n",
      "Series 2:\n",
      "0    7\n",
      "1    9\n",
      "2    6\n",
      "3    8\n",
      "4    4\n",
      "5    6\n",
      "6    4\n",
      "7    7\n",
      "8    1\n",
      "9    6\n",
      "dtype: int32\n",
      "\n",
      "Are the two series equal?\n",
      "False\n"
     ]
    }
   ],
   "source": [
    "s1 = pd.Series(np.random.randint(10, size=10))\n",
    "print(\"Series 1:\")\n",
    "print(s1)\n",
    "\n",
    "s2 = pd.Series(np.random.randint(10, size=10))\n",
    "print(\"\\nSeries 2:\")\n",
    "print(s2)\n",
    "\n",
    "print(\"\\nAre the two series equal?\")\n",
    "print(s1.equals(s2))"
   ]
  },
  {
   "cell_type": "markdown",
   "id": "6de66e1f",
   "metadata": {},
   "source": [
    "39. Index of Extremes\n",
    "\n",
    "Write a Pandas program to find the index of the first occurrence of the smallest and largest value of a given series."
   ]
  },
  {
   "cell_type": "code",
   "execution_count": 65,
   "id": "e3f07be3d5c9b2b0",
   "metadata": {},
   "outputs": [
    {
     "name": "stdout",
     "output_type": "stream",
     "text": [
      "Original Series:\n",
      "0    1\n",
      "1    3\n",
      "2    5\n",
      "3    8\n",
      "4    7\n",
      "5    6\n",
      "6    4\n",
      "7    7\n",
      "8    0\n",
      "9    0\n",
      "dtype: int32\n",
      "\n",
      "Index of the first occurrence of the smallest value:\n",
      "Value: 0, Index: 8\n",
      "\n",
      "Index of the first occurrence of the largest value:\n",
      "Value: 8, Index: 3\n"
     ]
    }
   ],
   "source": [
    "s = pd.Series(np.random.randint(10, size=10))\n",
    "print(\"Original Series:\")\n",
    "print(s)\n",
    "\n",
    "print(\"\\nIndex of the first occurrence of the smallest value:\")\n",
    "print(f\"Value: {s.min()}, Index: {s.idxmin()}\")\n",
    "\n",
    "print(\"\\nIndex of the first occurrence of the largest value:\")\n",
    "print(f\"Value: {s.max()}, Index: {s.idxmax()}\")"
   ]
  },
  {
   "cell_type": "markdown",
   "id": "c5cfb0dcfb773747",
   "metadata": {},
   "source": [
    "40. DataFrame-Series Inequality\n",
    "\n",
    "Write a Pandas program to check inequality over the index axis of a given dataframe and a given series."
   ]
  },
  {
   "cell_type": "code",
   "execution_count": 66,
   "id": "49c0cefb07b8fa2e",
   "metadata": {},
   "outputs": [
    {
     "name": "stdout",
     "output_type": "stream",
     "text": [
      "Original DataFrame:\n",
      "      W     X   Y   Z\n",
      "0  68.0  78.0  84  86\n",
      "1  75.0  75.0  94  97\n",
      "2  86.0   NaN  89  96\n",
      "3  80.0  80.0  86  72\n",
      "4   NaN  86.0  86  83\n",
      "\n",
      "Original Series:\n",
      "0    68.0\n",
      "1    75.0\n",
      "2    86.0\n",
      "3    80.0\n",
      "4     NaN\n",
      "dtype: float64\n",
      "\n",
      "DataFrame not equal to Series along columns:\n",
      "       W      X     Y     Z\n",
      "0  False   True  True  True\n",
      "1  False  False  True  True\n",
      "2  False   True  True  True\n",
      "3  False  False  True  True\n",
      "4   True   True  True  True\n",
      "\n",
      "DataFrame not equal to Series along rows:\n",
      "      W     X     Y     Z     0     1     2     3     4\n",
      "0  True  True  True  True  True  True  True  True  True\n",
      "1  True  True  True  True  True  True  True  True  True\n",
      "2  True  True  True  True  True  True  True  True  True\n",
      "3  True  True  True  True  True  True  True  True  True\n",
      "4  True  True  True  True  True  True  True  True  True\n"
     ]
    }
   ],
   "source": [
    "# Create the DataFrame\n",
    "df = pd.DataFrame({\n",
    "    'W': [68.0, 75.0, 86.0, 80.0, np.nan],\n",
    "    'X': [78.0, 75.0, np.nan, 80.0, 86.0],\n",
    "    'Y': [84, 94, 89, 86, 86],\n",
    "    'Z': [86, 97, 96, 72, 83]\n",
    "})\n",
    "\n",
    "# Create the Series from column 'W'\n",
    "s = pd.Series([68.0, 75.0, 86.0, 80.0, np.nan]) \n",
    "\n",
    "# Output\n",
    "print(\"Original DataFrame:\")\n",
    "print(df)\n",
    "print(\"\\nOriginal Series:\")\n",
    "print(s)\n",
    "print(\"\\nDataFrame not equal to Series along columns:\")\n",
    "print(df.ne(s, axis=0))\n",
    "print(\"\\nDataFrame not equal to Series along rows:\")\n",
    "print(df.ne(s, axis=1))"
   ]
  }
 ],
 "metadata": {
  "kernelspec": {
   "display_name": ".venv",
   "language": "python",
   "name": "python3"
  },
  "language_info": {
   "codemirror_mode": {
    "name": "ipython",
    "version": 3
   },
   "file_extension": ".py",
   "mimetype": "text/x-python",
   "name": "python",
   "nbconvert_exporter": "python",
   "pygments_lexer": "ipython3",
   "version": "3.12.6"
  }
 },
 "nbformat": 4,
 "nbformat_minor": 5
}
