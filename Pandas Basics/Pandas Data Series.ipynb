{
 "cells": [
  {
   "metadata": {},
   "cell_type": "code",
   "outputs": [],
   "execution_count": null,
   "source": "",
   "id": "e3f07be3d5c9b2b0"
  },
  {
   "metadata": {},
   "cell_type": "markdown",
   "source": "40- Write a Pandas program to check inequality over the index axis of a given dataframe and a given series.",
   "id": "c5cfb0dcfb773747"
  },
  {
   "metadata": {},
   "cell_type": "code",
   "outputs": [],
   "execution_count": null,
   "source": [
    "import pandas as pd\n",
    "DF = pd.DataFrame([[68.0,2,3],[4,5,6],[7,8,9]])"
   ],
   "id": "49c0cefb07b8fa2e"
  }
 ],
 "metadata": {
  "kernelspec": {
   "display_name": "Python 3",
   "language": "python",
   "name": "python3"
  },
  "language_info": {
   "codemirror_mode": {
    "name": "ipython",
    "version": 2
   },
   "file_extension": ".py",
   "mimetype": "text/x-python",
   "name": "python",
   "nbconvert_exporter": "python",
   "pygments_lexer": "ipython2",
   "version": "2.7.6"
  }
 },
 "nbformat": 4,
 "nbformat_minor": 5
}
